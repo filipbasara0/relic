{
 "cells": [
  {
   "cell_type": "code",
   "execution_count": 1,
   "id": "1d05ceca",
   "metadata": {
    "scrolled": true
   },
   "outputs": [],
   "source": [
    "import sys\n",
    "sys.path.append(\"../\")\n",
    "\n",
    "from PIL import Image\n",
    "\n",
    "import torch\n",
    "import torchvision\n",
    "from torchvision import models, transforms\n",
    "from torch.utils.data import DataLoader, Dataset\n",
    "\n",
    "from encoders import resnet18, resnet50\n",
    "from aug import get_relic_aug_inference"
   ]
  },
  {
   "cell_type": "code",
   "execution_count": 2,
   "id": "ea87b9e4",
   "metadata": {},
   "outputs": [],
   "source": [
    "device = torch.device(\"cuda\" if torch.cuda.is_available() else \"cpu\")"
   ]
  },
  {
   "cell_type": "code",
   "execution_count": 3,
   "id": "ec7dccba",
   "metadata": {},
   "outputs": [
    {
     "name": "stdout",
     "output_type": "stream",
     "text": [
      "Files already downloaded and verified\n",
      "Files already downloaded and verified\n"
     ]
    }
   ],
   "source": [
    "IMAGE_SIZE = 32\n",
    "\n",
    "transform = get_relic_aug_inference()\n",
    "train_ds = torchvision.datasets.CIFAR10(\"../data/cifar\",\n",
    "                                  train=True,\n",
    "                                  transform=transform,\n",
    "                                  download=True)\n",
    "val_ds = torchvision.datasets.CIFAR10(\"../data/cifar\",\n",
    "                                  train=False,\n",
    "                                  transform=transform,\n",
    "                                  download=True)"
   ]
  },
  {
   "cell_type": "code",
   "execution_count": 4,
   "id": "a900a33e",
   "metadata": {},
   "outputs": [
    {
     "data": {
      "text/plain": [
       "(50000, 10000)"
      ]
     },
     "execution_count": 4,
     "metadata": {},
     "output_type": "execute_result"
    }
   ],
   "source": [
    "len(train_ds), len(val_ds)"
   ]
  },
  {
   "cell_type": "code",
   "execution_count": 5,
   "id": "a402d632",
   "metadata": {},
   "outputs": [],
   "source": [
    "# ckpt = torch.load(\"../models/sota_cifar_2048/encoder.pth\")\n",
    "# ckpt = torch.load(\"../models/sota_cifar/encoder.pth\")\n",
    "ckpt = torch.load(\"../models/encoder.pth\")\n",
    "\n",
    "# model = resnet50()\n",
    "model = resnet18()\n",
    "model.load_state_dict(ckpt)\n",
    "\n",
    "model = model.eval().to(device)"
   ]
  },
  {
   "cell_type": "code",
   "execution_count": 6,
   "id": "cda08697",
   "metadata": {
    "scrolled": true
   },
   "outputs": [],
   "source": [
    "from tqdm.auto import tqdm\n",
    "\n",
    "def get_embs_targets(ds):\n",
    "    idx = 0\n",
    "    embs, targets = [], []\n",
    "    for idx, (image, target) in enumerate(tqdm(ds)):\n",
    "        with torch.no_grad():\n",
    "            image = image.unsqueeze(0).to(device)\n",
    "            out = model(image)\n",
    "            features = out[0].cpu().detach().tolist()   \n",
    "            embs.append(features)\n",
    "            targets.append(target)\n",
    "    return embs, targets"
   ]
  },
  {
   "cell_type": "code",
   "execution_count": 7,
   "id": "e4788ba1",
   "metadata": {},
   "outputs": [
    {
     "data": {
      "application/vnd.jupyter.widget-view+json": {
       "model_id": "a1423a9e604f448d9bae6902a0bc8d6f",
       "version_major": 2,
       "version_minor": 0
      },
      "text/plain": [
       "  0%|          | 0/50000 [00:00<?, ?it/s]"
      ]
     },
     "metadata": {},
     "output_type": "display_data"
    },
    {
     "data": {
      "application/vnd.jupyter.widget-view+json": {
       "model_id": "90cadecfb43a4fd3ae429ea89ce2cf04",
       "version_major": 2,
       "version_minor": 0
      },
      "text/plain": [
       "  0%|          | 0/10000 [00:00<?, ?it/s]"
      ]
     },
     "metadata": {},
     "output_type": "display_data"
    }
   ],
   "source": [
    "embs, targets = get_embs_targets(train_ds)\n",
    "embs_val, targets_val = get_embs_targets(val_ds)"
   ]
  },
  {
   "cell_type": "code",
   "execution_count": 8,
   "id": "50a94989",
   "metadata": {},
   "outputs": [],
   "source": [
    "import numpy as np\n",
    "\n",
    "embeddings = np.array(embs)\n",
    "labels = np.array(targets)\n",
    "embeddings_val = np.array(embs_val)\n",
    "labels_val = np.array(targets_val)"
   ]
  },
  {
   "cell_type": "code",
   "execution_count": 9,
   "id": "22ddde94",
   "metadata": {},
   "outputs": [
    {
     "name": "stdout",
     "output_type": "stream",
     "text": [
      "(50000, 512)\n",
      "(50000,)\n",
      "(10000, 512)\n",
      "(10000,)\n"
     ]
    }
   ],
   "source": [
    "print(embeddings.shape)\n",
    "print(labels.shape)\n",
    "print(embeddings_val.shape)\n",
    "print(labels_val.shape)"
   ]
  },
  {
   "cell_type": "code",
   "execution_count": 10,
   "id": "2352fcbc-0715-4284-bbce-55266b0c5795",
   "metadata": {
    "scrolled": true
   },
   "outputs": [
    {
     "name": "stdout",
     "output_type": "stream",
     "text": [
      "train 50000 50000\n",
      "test 10000 10000\n"
     ]
    },
    {
     "name": "stderr",
     "output_type": "stream",
     "text": [
      "/home/wavelet/projects/relic/.env/lib/python3.10/site-packages/sklearn/linear_model/_logistic.py:460: ConvergenceWarning: lbfgs failed to converge (status=1):\n",
      "STOP: TOTAL NO. of ITERATIONS REACHED LIMIT.\n",
      "\n",
      "Increase the number of iterations (max_iter) or scale the data as shown in:\n",
      "    https://scikit-learn.org/stable/modules/preprocessing.html\n",
      "Please also refer to the documentation for alternative solver options:\n",
      "    https://scikit-learn.org/stable/modules/linear_model.html#logistic-regression\n",
      "  n_iter_i = _check_optimize_result(\n",
      "/home/wavelet/projects/relic/.env/lib/python3.10/site-packages/sklearn/linear_model/_logistic.py:460: ConvergenceWarning: lbfgs failed to converge (status=1):\n",
      "STOP: TOTAL NO. of ITERATIONS REACHED LIMIT.\n",
      "\n",
      "Increase the number of iterations (max_iter) or scale the data as shown in:\n",
      "    https://scikit-learn.org/stable/modules/preprocessing.html\n",
      "Please also refer to the documentation for alternative solver options:\n",
      "    https://scikit-learn.org/stable/modules/linear_model.html#logistic-regression\n",
      "  n_iter_i = _check_optimize_result(\n",
      "/home/wavelet/projects/relic/.env/lib/python3.10/site-packages/sklearn/linear_model/_logistic.py:460: ConvergenceWarning: lbfgs failed to converge (status=1):\n",
      "STOP: TOTAL NO. of ITERATIONS REACHED LIMIT.\n",
      "\n",
      "Increase the number of iterations (max_iter) or scale the data as shown in:\n",
      "    https://scikit-learn.org/stable/modules/preprocessing.html\n",
      "Please also refer to the documentation for alternative solver options:\n",
      "    https://scikit-learn.org/stable/modules/linear_model.html#logistic-regression\n",
      "  n_iter_i = _check_optimize_result(\n",
      "/home/wavelet/projects/relic/.env/lib/python3.10/site-packages/sklearn/linear_model/_logistic.py:460: ConvergenceWarning: lbfgs failed to converge (status=1):\n",
      "STOP: TOTAL NO. of ITERATIONS REACHED LIMIT.\n",
      "\n",
      "Increase the number of iterations (max_iter) or scale the data as shown in:\n",
      "    https://scikit-learn.org/stable/modules/preprocessing.html\n",
      "Please also refer to the documentation for alternative solver options:\n",
      "    https://scikit-learn.org/stable/modules/linear_model.html#logistic-regression\n",
      "  n_iter_i = _check_optimize_result(\n",
      "/home/wavelet/projects/relic/.env/lib/python3.10/site-packages/sklearn/linear_model/_logistic.py:460: ConvergenceWarning: lbfgs failed to converge (status=1):\n",
      "STOP: TOTAL NO. of ITERATIONS REACHED LIMIT.\n",
      "\n",
      "Increase the number of iterations (max_iter) or scale the data as shown in:\n",
      "    https://scikit-learn.org/stable/modules/preprocessing.html\n",
      "Please also refer to the documentation for alternative solver options:\n",
      "    https://scikit-learn.org/stable/modules/linear_model.html#logistic-regression\n",
      "  n_iter_i = _check_optimize_result(\n"
     ]
    },
    {
     "name": "stdout",
     "output_type": "stream",
     "text": [
      "Accuracy:  0.692\n",
      "Confusion matrix: \n",
      " [[723  17  70  21  19   4  20  14  75  37]\n",
      " [ 24 793   8   8   9   6  18   6  41  87]\n",
      " [ 58   5 570  65  92  53  91  35  10  21]\n",
      " [ 25   6  82 478  70 155 108  39  11  26]\n",
      " [ 19   3  77  56 622  38  82  86  14   3]\n",
      " [ 11   4  64 164  46 549  80  66   4  12]\n",
      " [ 10   4  34  51  28  33 822   9   5   4]\n",
      " [ 23   5  29  42  58  46  18 761   3  15]\n",
      " [ 68  27  12  18   9   4  11   3 815  33]\n",
      " [ 30  80  15  18   3   8  11  15  33 787]]\n",
      "Classification report: \n",
      "               precision    recall  f1-score   support\n",
      "\n",
      "           0       0.73      0.72      0.73      1000\n",
      "           1       0.84      0.79      0.82      1000\n",
      "           2       0.59      0.57      0.58      1000\n",
      "           3       0.52      0.48      0.50      1000\n",
      "           4       0.65      0.62      0.64      1000\n",
      "           5       0.61      0.55      0.58      1000\n",
      "           6       0.65      0.82      0.73      1000\n",
      "           7       0.74      0.76      0.75      1000\n",
      "           8       0.81      0.81      0.81      1000\n",
      "           9       0.77      0.79      0.78      1000\n",
      "\n",
      "    accuracy                           0.69     10000\n",
      "   macro avg       0.69      0.69      0.69     10000\n",
      "weighted avg       0.69      0.69      0.69     10000\n",
      "\n",
      "Classification report train: \n",
      "               precision    recall  f1-score   support\n",
      "\n",
      "           0       0.78      0.75      0.77      5000\n",
      "           1       0.85      0.81      0.83      5000\n",
      "           2       0.64      0.60      0.62      5000\n",
      "           3       0.55      0.52      0.54      5000\n",
      "           4       0.70      0.67      0.68      5000\n",
      "           5       0.63      0.59      0.61      5000\n",
      "           6       0.68      0.82      0.74      5000\n",
      "           7       0.74      0.79      0.76      5000\n",
      "           8       0.83      0.84      0.84      5000\n",
      "           9       0.80      0.82      0.81      5000\n",
      "\n",
      "    accuracy                           0.72     50000\n",
      "   macro avg       0.72      0.72      0.72     50000\n",
      "weighted avg       0.72      0.72      0.72     50000\n",
      "\n"
     ]
    }
   ],
   "source": [
    "from sklearn.calibration import CalibratedClassifierCV\n",
    "from sklearn.linear_model import LogisticRegression\n",
    "from sklearn.pipeline import Pipeline\n",
    "from sklearn.metrics import accuracy_score, confusion_matrix, classification_report\n",
    "from sklearn.model_selection import train_test_split\n",
    " \n",
    "X_train, X_test = embeddings, embeddings_val\n",
    "y_train, y_test = labels, labels_val\n",
    "\n",
    "print(\"train\", X_train.shape[0], len(y_train))\n",
    "print(\"test\", X_test.shape[0], len(y_test))\n",
    " \n",
    "clf = LogisticRegression(max_iter=100)\n",
    "clf = CalibratedClassifierCV(clf)\n",
    " \n",
    "clf.fit(X_train, y_train)\n",
    " \n",
    "y_pred = clf.predict(X_test)\n",
    " \n",
    "acc = accuracy_score(y_test, y_pred)\n",
    "conf_matrix = confusion_matrix(y_test, y_pred)\n",
    "class_report = classification_report(y_test, y_pred)\n",
    " \n",
    "print(\"Accuracy: \", acc)\n",
    "print(\"Confusion matrix: \\n\", conf_matrix)\n",
    "print(\"Classification report: \\n\", class_report)\n",
    " \n",
    "y_pred_train = clf.predict(X_train)\n",
    "class_report = classification_report(y_train, y_pred_train)\n",
    "print(\"Classification report train: \\n\", class_report)"
   ]
  },
  {
   "cell_type": "code",
   "execution_count": 10,
   "id": "ce3bc9e7-aa8d-4f2f-a956-2706fb19a4fe",
   "metadata": {
    "scrolled": true
   },
   "outputs": [
    {
     "name": "stdout",
     "output_type": "stream",
     "text": [
      "train 50000 50000\n",
      "test 10000 10000\n"
     ]
    },
    {
     "name": "stderr",
     "output_type": "stream",
     "text": [
      "/home/wavelet/projects/relic/.env/lib/python3.10/site-packages/sklearn/linear_model/_logistic.py:460: ConvergenceWarning: lbfgs failed to converge (status=1):\n",
      "STOP: TOTAL NO. of ITERATIONS REACHED LIMIT.\n",
      "\n",
      "Increase the number of iterations (max_iter) or scale the data as shown in:\n",
      "    https://scikit-learn.org/stable/modules/preprocessing.html\n",
      "Please also refer to the documentation for alternative solver options:\n",
      "    https://scikit-learn.org/stable/modules/linear_model.html#logistic-regression\n",
      "  n_iter_i = _check_optimize_result(\n",
      "/home/wavelet/projects/relic/.env/lib/python3.10/site-packages/sklearn/linear_model/_logistic.py:460: ConvergenceWarning: lbfgs failed to converge (status=1):\n",
      "STOP: TOTAL NO. of ITERATIONS REACHED LIMIT.\n",
      "\n",
      "Increase the number of iterations (max_iter) or scale the data as shown in:\n",
      "    https://scikit-learn.org/stable/modules/preprocessing.html\n",
      "Please also refer to the documentation for alternative solver options:\n",
      "    https://scikit-learn.org/stable/modules/linear_model.html#logistic-regression\n",
      "  n_iter_i = _check_optimize_result(\n",
      "/home/wavelet/projects/relic/.env/lib/python3.10/site-packages/sklearn/linear_model/_logistic.py:460: ConvergenceWarning: lbfgs failed to converge (status=1):\n",
      "STOP: TOTAL NO. of ITERATIONS REACHED LIMIT.\n",
      "\n",
      "Increase the number of iterations (max_iter) or scale the data as shown in:\n",
      "    https://scikit-learn.org/stable/modules/preprocessing.html\n",
      "Please also refer to the documentation for alternative solver options:\n",
      "    https://scikit-learn.org/stable/modules/linear_model.html#logistic-regression\n",
      "  n_iter_i = _check_optimize_result(\n",
      "/home/wavelet/projects/relic/.env/lib/python3.10/site-packages/sklearn/linear_model/_logistic.py:460: ConvergenceWarning: lbfgs failed to converge (status=1):\n",
      "STOP: TOTAL NO. of ITERATIONS REACHED LIMIT.\n",
      "\n",
      "Increase the number of iterations (max_iter) or scale the data as shown in:\n",
      "    https://scikit-learn.org/stable/modules/preprocessing.html\n",
      "Please also refer to the documentation for alternative solver options:\n",
      "    https://scikit-learn.org/stable/modules/linear_model.html#logistic-regression\n",
      "  n_iter_i = _check_optimize_result(\n",
      "/home/wavelet/projects/relic/.env/lib/python3.10/site-packages/sklearn/linear_model/_logistic.py:460: ConvergenceWarning: lbfgs failed to converge (status=1):\n",
      "STOP: TOTAL NO. of ITERATIONS REACHED LIMIT.\n",
      "\n",
      "Increase the number of iterations (max_iter) or scale the data as shown in:\n",
      "    https://scikit-learn.org/stable/modules/preprocessing.html\n",
      "Please also refer to the documentation for alternative solver options:\n",
      "    https://scikit-learn.org/stable/modules/linear_model.html#logistic-regression\n",
      "  n_iter_i = _check_optimize_result(\n"
     ]
    },
    {
     "name": "stdout",
     "output_type": "stream",
     "text": [
      "Accuracy:  0.6958\n",
      "Confusion matrix: \n",
      " [[763  17  50  16  16   6  14   7  72  39]\n",
      " [ 27 811   5  10   7   2   7   4  40  87]\n",
      " [ 73   6 554  69  86  64  92  33  11  12]\n",
      " [ 31   7  80 494  62 151  99  48   7  21]\n",
      " [ 17   4  87  54 599  41  91  88  15   4]\n",
      " [ 11   8  50 177  48 545  76  71   4  10]\n",
      " [  9   5  32  53  34  25 824   6   3   9]\n",
      " [ 20   4  30  43  55  60  18 743   5  22]\n",
      " [ 61  34  15  13   7   4   9   4 826  27]\n",
      " [ 23  78  12  15   4   7   8  19  35 799]]\n",
      "Classification report: \n",
      "               precision    recall  f1-score   support\n",
      "\n",
      "           0       0.74      0.76      0.75      1000\n",
      "           1       0.83      0.81      0.82      1000\n",
      "           2       0.61      0.55      0.58      1000\n",
      "           3       0.52      0.49      0.51      1000\n",
      "           4       0.65      0.60      0.62      1000\n",
      "           5       0.60      0.55      0.57      1000\n",
      "           6       0.67      0.82      0.74      1000\n",
      "           7       0.73      0.74      0.73      1000\n",
      "           8       0.81      0.83      0.82      1000\n",
      "           9       0.78      0.80      0.79      1000\n",
      "\n",
      "    accuracy                           0.70     10000\n",
      "   macro avg       0.69      0.70      0.69     10000\n",
      "weighted avg       0.69      0.70      0.69     10000\n",
      "\n",
      "Classification report train: \n",
      "               precision    recall  f1-score   support\n",
      "\n",
      "           0       0.77      0.76      0.76      5000\n",
      "           1       0.85      0.82      0.84      5000\n",
      "           2       0.63      0.61      0.62      5000\n",
      "           3       0.55      0.52      0.54      5000\n",
      "           4       0.70      0.63      0.66      5000\n",
      "           5       0.63      0.59      0.61      5000\n",
      "           6       0.69      0.83      0.75      5000\n",
      "           7       0.75      0.78      0.76      5000\n",
      "           8       0.82      0.85      0.83      5000\n",
      "           9       0.80      0.82      0.81      5000\n",
      "\n",
      "    accuracy                           0.72     50000\n",
      "   macro avg       0.72      0.72      0.72     50000\n",
      "weighted avg       0.72      0.72      0.72     50000\n",
      "\n"
     ]
    }
   ],
   "source": [
    "from sklearn.calibration import CalibratedClassifierCV\n",
    "from sklearn.linear_model import LogisticRegression\n",
    "from sklearn.pipeline import Pipeline\n",
    "from sklearn.metrics import accuracy_score, confusion_matrix, classification_report\n",
    "from sklearn.model_selection import train_test_split\n",
    " \n",
    "X_train, X_test = embeddings, embeddings_val\n",
    "y_train, y_test = labels, labels_val\n",
    "\n",
    "print(\"train\", X_train.shape[0], len(y_train))\n",
    "print(\"test\", X_test.shape[0], len(y_test))\n",
    " \n",
    "clf = LogisticRegression(max_iter=100)\n",
    "clf = CalibratedClassifierCV(clf)\n",
    " \n",
    "clf.fit(X_train, y_train)\n",
    " \n",
    "y_pred = clf.predict(X_test)\n",
    " \n",
    "acc = accuracy_score(y_test, y_pred)\n",
    "conf_matrix = confusion_matrix(y_test, y_pred)\n",
    "class_report = classification_report(y_test, y_pred)\n",
    " \n",
    "print(\"Accuracy: \", acc)\n",
    "print(\"Confusion matrix: \\n\", conf_matrix)\n",
    "print(\"Classification report: \\n\", class_report)\n",
    " \n",
    "y_pred_train = clf.predict(X_train)\n",
    "class_report = classification_report(y_train, y_pred_train)\n",
    "print(\"Classification report train: \\n\", class_report)"
   ]
  },
  {
   "cell_type": "code",
   "execution_count": null,
   "id": "7c9a5c56-c398-4b64-99d6-557115ef6bce",
   "metadata": {},
   "outputs": [],
   "source": []
  }
 ],
 "metadata": {
  "kernelspec": {
   "display_name": "Python 3 (ipykernel)",
   "language": "python",
   "name": "python3"
  },
  "language_info": {
   "codemirror_mode": {
    "name": "ipython",
    "version": 3
   },
   "file_extension": ".py",
   "mimetype": "text/x-python",
   "name": "python",
   "nbconvert_exporter": "python",
   "pygments_lexer": "ipython3",
   "version": "3.10.13"
  }
 },
 "nbformat": 4,
 "nbformat_minor": 5
}
