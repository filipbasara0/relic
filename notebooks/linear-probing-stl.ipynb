{
 "cells": [
  {
   "cell_type": "code",
   "execution_count": 1,
   "id": "1d05ceca",
   "metadata": {
    "scrolled": true
   },
   "outputs": [],
   "source": [
    "import sys\n",
    "sys.path.append(\"../\")\n",
    "\n",
    "from PIL import Image\n",
    "\n",
    "import torch\n",
    "import torchvision\n",
    "from torchvision import models, transforms\n",
    "from torch.utils.data import DataLoader, Dataset\n",
    "\n",
    "from encoders import resnet18, resnet50\n",
    "from aug import get_relic_aug_inference, get_relic_aug"
   ]
  },
  {
   "cell_type": "code",
   "execution_count": 2,
   "id": "ea87b9e4",
   "metadata": {},
   "outputs": [],
   "source": [
    "device = torch.device(\"cuda\" if torch.cuda.is_available() else \"cpu\")"
   ]
  },
  {
   "cell_type": "code",
   "execution_count": 3,
   "id": "ec7dccba",
   "metadata": {},
   "outputs": [
    {
     "name": "stdout",
     "output_type": "stream",
     "text": [
      "Files already downloaded and verified\n",
      "Files already downloaded and verified\n"
     ]
    }
   ],
   "source": [
    "transform = get_relic_aug_inference()\n",
    "\n",
    "train_ds = torchvision.datasets.STL10(\"../data\",\n",
    "                                  split='train',\n",
    "                                  transform=transform,\n",
    "                                  download=True)\n",
    "val_ds = torchvision.datasets.STL10(\"../data\",\n",
    "                                  split='test',\n",
    "                                  transform=transform,\n",
    "                                  download=True)"
   ]
  },
  {
   "cell_type": "code",
   "execution_count": 4,
   "id": "a900a33e",
   "metadata": {},
   "outputs": [
    {
     "data": {
      "text/plain": [
       "(5000, 8000)"
      ]
     },
     "execution_count": 4,
     "metadata": {},
     "output_type": "execute_result"
    }
   ],
   "source": [
    "len(train_ds), len(val_ds)"
   ]
  },
  {
   "cell_type": "code",
   "execution_count": 5,
   "id": "a402d632",
   "metadata": {
    "scrolled": true
   },
   "outputs": [],
   "source": [
    "# ckpt = torch.load(\"../models/sota_stl/encoder.pth\")\n",
    "ckpt = torch.load(\"../models/sota_stl_2048/encoder.pth\")\n",
    "\n",
    "# model = resnet18()\n",
    "model = resnet50()\n",
    "model.load_state_dict(ckpt)\n",
    "\n",
    "model = model.eval().to(device)"
   ]
  },
  {
   "cell_type": "code",
   "execution_count": 6,
   "id": "cda08697",
   "metadata": {
    "scrolled": true
   },
   "outputs": [],
   "source": [
    "from tqdm.auto import tqdm\n",
    "\n",
    "def get_embs_targets(ds):\n",
    "    idx = 0\n",
    "    embs, targets = [], []\n",
    "    for idx, (image, target) in enumerate(tqdm(ds)):\n",
    "        with torch.no_grad():\n",
    "            image = image.unsqueeze(0).to(device)\n",
    "            out = model(image)\n",
    "            features = out[0].cpu().detach().tolist()   \n",
    "            embs.append(features)\n",
    "            targets.append(target)\n",
    "    return embs, targets"
   ]
  },
  {
   "cell_type": "code",
   "execution_count": 7,
   "id": "e4788ba1",
   "metadata": {},
   "outputs": [
    {
     "data": {
      "application/vnd.jupyter.widget-view+json": {
       "model_id": "96648c842df645af88aca70c71f7e10b",
       "version_major": 2,
       "version_minor": 0
      },
      "text/plain": [
       "  0%|          | 0/5000 [00:00<?, ?it/s]"
      ]
     },
     "metadata": {},
     "output_type": "display_data"
    },
    {
     "data": {
      "application/vnd.jupyter.widget-view+json": {
       "model_id": "ad774f669bcf40b3848250efd483d0b5",
       "version_major": 2,
       "version_minor": 0
      },
      "text/plain": [
       "  0%|          | 0/8000 [00:00<?, ?it/s]"
      ]
     },
     "metadata": {},
     "output_type": "display_data"
    }
   ],
   "source": [
    "embs, targets = get_embs_targets(train_ds)\n",
    "embs_val, targets_val = get_embs_targets(val_ds)"
   ]
  },
  {
   "cell_type": "code",
   "execution_count": 8,
   "id": "50a94989",
   "metadata": {},
   "outputs": [],
   "source": [
    "import numpy as np\n",
    "\n",
    "embeddings = np.array(embs)\n",
    "labels = np.array(targets)\n",
    "embeddings_val = np.array(embs_val)\n",
    "labels_val = np.array(targets_val)"
   ]
  },
  {
   "cell_type": "code",
   "execution_count": 9,
   "id": "22ddde94",
   "metadata": {},
   "outputs": [
    {
     "name": "stdout",
     "output_type": "stream",
     "text": [
      "(5000, 2048)\n",
      "(5000,)\n",
      "(8000, 2048)\n",
      "(8000,)\n"
     ]
    }
   ],
   "source": [
    "print(embeddings.shape)\n",
    "print(labels.shape)\n",
    "print(embeddings_val.shape)\n",
    "print(labels_val.shape)"
   ]
  },
  {
   "cell_type": "markdown",
   "id": "b2e79aa7-fcfa-4bf5-8ed7-3d3b818da188",
   "metadata": {},
   "source": [
    "### Resnet 50"
   ]
  },
  {
   "cell_type": "code",
   "execution_count": 22,
   "id": "72235940-e8e6-410c-8d4f-e4912d894a84",
   "metadata": {
    "scrolled": true
   },
   "outputs": [
    {
     "name": "stdout",
     "output_type": "stream",
     "text": [
      "train 5000 5000\n",
      "test 8000 8000\n"
     ]
    },
    {
     "name": "stderr",
     "output_type": "stream",
     "text": [
      "/home/wavelet/projects/relic/.env/lib/python3.10/site-packages/sklearn/linear_model/_logistic.py:460: ConvergenceWarning: lbfgs failed to converge (status=1):\n",
      "STOP: TOTAL NO. of ITERATIONS REACHED LIMIT.\n",
      "\n",
      "Increase the number of iterations (max_iter) or scale the data as shown in:\n",
      "    https://scikit-learn.org/stable/modules/preprocessing.html\n",
      "Please also refer to the documentation for alternative solver options:\n",
      "    https://scikit-learn.org/stable/modules/linear_model.html#logistic-regression\n",
      "  n_iter_i = _check_optimize_result(\n",
      "/home/wavelet/projects/relic/.env/lib/python3.10/site-packages/sklearn/linear_model/_logistic.py:460: ConvergenceWarning: lbfgs failed to converge (status=1):\n",
      "STOP: TOTAL NO. of ITERATIONS REACHED LIMIT.\n",
      "\n",
      "Increase the number of iterations (max_iter) or scale the data as shown in:\n",
      "    https://scikit-learn.org/stable/modules/preprocessing.html\n",
      "Please also refer to the documentation for alternative solver options:\n",
      "    https://scikit-learn.org/stable/modules/linear_model.html#logistic-regression\n",
      "  n_iter_i = _check_optimize_result(\n",
      "/home/wavelet/projects/relic/.env/lib/python3.10/site-packages/sklearn/linear_model/_logistic.py:460: ConvergenceWarning: lbfgs failed to converge (status=1):\n",
      "STOP: TOTAL NO. of ITERATIONS REACHED LIMIT.\n",
      "\n",
      "Increase the number of iterations (max_iter) or scale the data as shown in:\n",
      "    https://scikit-learn.org/stable/modules/preprocessing.html\n",
      "Please also refer to the documentation for alternative solver options:\n",
      "    https://scikit-learn.org/stable/modules/linear_model.html#logistic-regression\n",
      "  n_iter_i = _check_optimize_result(\n",
      "/home/wavelet/projects/relic/.env/lib/python3.10/site-packages/sklearn/linear_model/_logistic.py:460: ConvergenceWarning: lbfgs failed to converge (status=1):\n",
      "STOP: TOTAL NO. of ITERATIONS REACHED LIMIT.\n",
      "\n",
      "Increase the number of iterations (max_iter) or scale the data as shown in:\n",
      "    https://scikit-learn.org/stable/modules/preprocessing.html\n",
      "Please also refer to the documentation for alternative solver options:\n",
      "    https://scikit-learn.org/stable/modules/linear_model.html#logistic-regression\n",
      "  n_iter_i = _check_optimize_result(\n"
     ]
    },
    {
     "name": "stdout",
     "output_type": "stream",
     "text": [
      "Accuracy:  0.76275\n",
      "Confusion matrix: \n",
      " [[728  17   7   5   1   2   3   0  23  14]\n",
      " [ 20 612   0  46  21  37  11  51   1   1]\n",
      " [ 20   0 714   6   0   2   2   1   9  46]\n",
      " [  1  60   0 522  61  71  20  60   1   4]\n",
      " [  7  43   1  55 573  28  65  28   0   0]\n",
      " [  2  38   0 122  63 410  96  68   1   0]\n",
      " [  8  10   4  15  37  39 650  30   3   4]\n",
      " [  1  69   0  64  28  54  26 553   4   1]\n",
      " [ 48   3   7   3   0   0   0   0 724  15]\n",
      " [ 28   1  54   7   0   2   9   5  78 616]]\n",
      "Classification report: \n",
      "               precision    recall  f1-score   support\n",
      "\n",
      "           0       0.84      0.91      0.88       800\n",
      "           1       0.72      0.77      0.74       800\n",
      "           2       0.91      0.89      0.90       800\n",
      "           3       0.62      0.65      0.63       800\n",
      "           4       0.73      0.72      0.72       800\n",
      "           5       0.64      0.51      0.57       800\n",
      "           6       0.74      0.81      0.77       800\n",
      "           7       0.69      0.69      0.69       800\n",
      "           8       0.86      0.91      0.88       800\n",
      "           9       0.88      0.77      0.82       800\n",
      "\n",
      "    accuracy                           0.76      8000\n",
      "   macro avg       0.76      0.76      0.76      8000\n",
      "weighted avg       0.76      0.76      0.76      8000\n",
      "\n",
      "Classification report train: \n",
      "               precision    recall  f1-score   support\n",
      "\n",
      "           0       0.95      1.00      0.97       500\n",
      "           1       0.95      0.96      0.96       500\n",
      "           2       0.96      0.99      0.98       500\n",
      "           3       0.91      0.93      0.92       500\n",
      "           4       0.94      0.95      0.94       500\n",
      "           5       0.94      0.83      0.88       500\n",
      "           6       0.93      0.96      0.94       500\n",
      "           7       0.92      0.95      0.93       500\n",
      "           8       0.95      0.98      0.97       500\n",
      "           9       0.99      0.90      0.94       500\n",
      "\n",
      "    accuracy                           0.94      5000\n",
      "   macro avg       0.94      0.94      0.94      5000\n",
      "weighted avg       0.94      0.94      0.94      5000\n",
      "\n"
     ]
    },
    {
     "name": "stderr",
     "output_type": "stream",
     "text": [
      "/home/wavelet/projects/relic/.env/lib/python3.10/site-packages/sklearn/linear_model/_logistic.py:460: ConvergenceWarning: lbfgs failed to converge (status=1):\n",
      "STOP: TOTAL NO. of ITERATIONS REACHED LIMIT.\n",
      "\n",
      "Increase the number of iterations (max_iter) or scale the data as shown in:\n",
      "    https://scikit-learn.org/stable/modules/preprocessing.html\n",
      "Please also refer to the documentation for alternative solver options:\n",
      "    https://scikit-learn.org/stable/modules/linear_model.html#logistic-regression\n",
      "  n_iter_i = _check_optimize_result(\n"
     ]
    }
   ],
   "source": [
    "from sklearn.calibration import CalibratedClassifierCV\n",
    "from sklearn.linear_model import LogisticRegression\n",
    "from sklearn.pipeline import Pipeline\n",
    "from sklearn.metrics import accuracy_score, confusion_matrix, classification_report\n",
    "from sklearn.model_selection import train_test_split\n",
    " \n",
    "X_train, X_test = embeddings, embeddings_val\n",
    "y_train, y_test = labels, labels_val\n",
    "\n",
    "print(\"train\", X_train.shape[0], len(y_train))\n",
    "print(\"test\", X_test.shape[0], len(y_test))\n",
    " \n",
    "clf = LogisticRegression(max_iter=100)\n",
    "clf = CalibratedClassifierCV(clf)\n",
    " \n",
    "clf.fit(X_train, y_train)\n",
    " \n",
    "y_pred = clf.predict(X_test)\n",
    " \n",
    "acc = accuracy_score(y_test, y_pred)\n",
    "conf_matrix = confusion_matrix(y_test, y_pred)\n",
    "class_report = classification_report(y_test, y_pred)\n",
    " \n",
    "print(\"Accuracy: \", acc)\n",
    "print(\"Confusion matrix: \\n\", conf_matrix)\n",
    "print(\"Classification report: \\n\", class_report)\n",
    " \n",
    "y_pred_train = clf.predict(X_train)\n",
    "class_report = classification_report(y_train, y_pred_train)\n",
    "print(\"Classification report train: \\n\", class_report)"
   ]
  },
  {
   "cell_type": "markdown",
   "id": "1cf02cbb-d000-4331-858c-c7e0544895aa",
   "metadata": {},
   "source": [
    "### Resnet 18"
   ]
  },
  {
   "cell_type": "code",
   "execution_count": 10,
   "id": "56b1df17-b996-4f01-9794-b28237205992",
   "metadata": {
    "scrolled": true
   },
   "outputs": [
    {
     "name": "stdout",
     "output_type": "stream",
     "text": [
      "train 5000 5000\n",
      "test 8000 8000\n"
     ]
    },
    {
     "name": "stderr",
     "output_type": "stream",
     "text": [
      "/home/wavelet/projects/relic/.env/lib/python3.10/site-packages/sklearn/linear_model/_logistic.py:460: ConvergenceWarning: lbfgs failed to converge (status=1):\n",
      "STOP: TOTAL NO. of ITERATIONS REACHED LIMIT.\n",
      "\n",
      "Increase the number of iterations (max_iter) or scale the data as shown in:\n",
      "    https://scikit-learn.org/stable/modules/preprocessing.html\n",
      "Please also refer to the documentation for alternative solver options:\n",
      "    https://scikit-learn.org/stable/modules/linear_model.html#logistic-regression\n",
      "  n_iter_i = _check_optimize_result(\n",
      "/home/wavelet/projects/relic/.env/lib/python3.10/site-packages/sklearn/linear_model/_logistic.py:460: ConvergenceWarning: lbfgs failed to converge (status=1):\n",
      "STOP: TOTAL NO. of ITERATIONS REACHED LIMIT.\n",
      "\n",
      "Increase the number of iterations (max_iter) or scale the data as shown in:\n",
      "    https://scikit-learn.org/stable/modules/preprocessing.html\n",
      "Please also refer to the documentation for alternative solver options:\n",
      "    https://scikit-learn.org/stable/modules/linear_model.html#logistic-regression\n",
      "  n_iter_i = _check_optimize_result(\n",
      "/home/wavelet/projects/relic/.env/lib/python3.10/site-packages/sklearn/linear_model/_logistic.py:460: ConvergenceWarning: lbfgs failed to converge (status=1):\n",
      "STOP: TOTAL NO. of ITERATIONS REACHED LIMIT.\n",
      "\n",
      "Increase the number of iterations (max_iter) or scale the data as shown in:\n",
      "    https://scikit-learn.org/stable/modules/preprocessing.html\n",
      "Please also refer to the documentation for alternative solver options:\n",
      "    https://scikit-learn.org/stable/modules/linear_model.html#logistic-regression\n",
      "  n_iter_i = _check_optimize_result(\n",
      "/home/wavelet/projects/relic/.env/lib/python3.10/site-packages/sklearn/linear_model/_logistic.py:460: ConvergenceWarning: lbfgs failed to converge (status=1):\n",
      "STOP: TOTAL NO. of ITERATIONS REACHED LIMIT.\n",
      "\n",
      "Increase the number of iterations (max_iter) or scale the data as shown in:\n",
      "    https://scikit-learn.org/stable/modules/preprocessing.html\n",
      "Please also refer to the documentation for alternative solver options:\n",
      "    https://scikit-learn.org/stable/modules/linear_model.html#logistic-regression\n",
      "  n_iter_i = _check_optimize_result(\n"
     ]
    },
    {
     "name": "stdout",
     "output_type": "stream",
     "text": [
      "Accuracy:  0.732625\n",
      "Confusion matrix: \n",
      " [[695  23  18   3   4   3   3   1  34  16]\n",
      " [ 31 558   1  62  14  33  11  88   1   1]\n",
      " [ 16   1 723   4   1   1   2   1  11  40]\n",
      " [  1  81   0 479  58  83  21  69   5   3]\n",
      " [  4  35   0  53 570  33  71  33   1   0]\n",
      " [  2  51   2 137  66 356  95  90   0   1]\n",
      " [  5   6   7  11  43  47 640  33   2   6]\n",
      " [  2  74   2  75  31  59  28 526   2   1]\n",
      " [ 37   2   8   3   0   0   2   0 713  35]\n",
      " [ 29   1  65  12   2   3   7   4  76 601]]\n",
      "Classification report: \n",
      "               precision    recall  f1-score   support\n",
      "\n",
      "           0       0.85      0.87      0.86       800\n",
      "           1       0.67      0.70      0.68       800\n",
      "           2       0.88      0.90      0.89       800\n",
      "           3       0.57      0.60      0.58       800\n",
      "           4       0.72      0.71      0.72       800\n",
      "           5       0.58      0.45      0.50       800\n",
      "           6       0.73      0.80      0.76       800\n",
      "           7       0.62      0.66      0.64       800\n",
      "           8       0.84      0.89      0.87       800\n",
      "           9       0.85      0.75      0.80       800\n",
      "\n",
      "    accuracy                           0.73      8000\n",
      "   macro avg       0.73      0.73      0.73      8000\n",
      "weighted avg       0.73      0.73      0.73      8000\n",
      "\n",
      "Classification report train: \n",
      "               precision    recall  f1-score   support\n",
      "\n",
      "           0       0.96      0.96      0.96       500\n",
      "           1       0.85      0.90      0.87       500\n",
      "           2       0.94      0.98      0.96       500\n",
      "           3       0.80      0.82      0.81       500\n",
      "           4       0.85      0.88      0.87       500\n",
      "           5       0.86      0.63      0.72       500\n",
      "           6       0.83      0.92      0.87       500\n",
      "           7       0.82      0.86      0.84       500\n",
      "           8       0.96      0.98      0.97       500\n",
      "           9       0.97      0.90      0.93       500\n",
      "\n",
      "    accuracy                           0.88      5000\n",
      "   macro avg       0.88      0.88      0.88      5000\n",
      "weighted avg       0.88      0.88      0.88      5000\n",
      "\n"
     ]
    },
    {
     "name": "stderr",
     "output_type": "stream",
     "text": [
      "/home/wavelet/projects/relic/.env/lib/python3.10/site-packages/sklearn/linear_model/_logistic.py:460: ConvergenceWarning: lbfgs failed to converge (status=1):\n",
      "STOP: TOTAL NO. of ITERATIONS REACHED LIMIT.\n",
      "\n",
      "Increase the number of iterations (max_iter) or scale the data as shown in:\n",
      "    https://scikit-learn.org/stable/modules/preprocessing.html\n",
      "Please also refer to the documentation for alternative solver options:\n",
      "    https://scikit-learn.org/stable/modules/linear_model.html#logistic-regression\n",
      "  n_iter_i = _check_optimize_result(\n"
     ]
    }
   ],
   "source": [
    "from sklearn.calibration import CalibratedClassifierCV\n",
    "from sklearn.linear_model import LogisticRegression\n",
    "from sklearn.pipeline import Pipeline\n",
    "from sklearn.metrics import accuracy_score, confusion_matrix, classification_report\n",
    "from sklearn.model_selection import train_test_split\n",
    " \n",
    "X_train, X_test = embeddings, embeddings_val\n",
    "y_train, y_test = labels, labels_val\n",
    "\n",
    "print(\"train\", X_train.shape[0], len(y_train))\n",
    "print(\"test\", X_test.shape[0], len(y_test))\n",
    " \n",
    "clf = LogisticRegression(max_iter=100)\n",
    "clf = CalibratedClassifierCV(clf)\n",
    " \n",
    "clf.fit(X_train, y_train)\n",
    " \n",
    "y_pred = clf.predict(X_test)\n",
    " \n",
    "acc = accuracy_score(y_test, y_pred)\n",
    "conf_matrix = confusion_matrix(y_test, y_pred)\n",
    "class_report = classification_report(y_test, y_pred)\n",
    " \n",
    "print(\"Accuracy: \", acc)\n",
    "print(\"Confusion matrix: \\n\", conf_matrix)\n",
    "print(\"Classification report: \\n\", class_report)\n",
    " \n",
    "y_pred_train = clf.predict(X_train)\n",
    "class_report = classification_report(y_train, y_pred_train)\n",
    "print(\"Classification report train: \\n\", class_report)"
   ]
  },
  {
   "cell_type": "code",
   "execution_count": null,
   "id": "7e561248-9140-4bb7-9d07-bf138f19d42f",
   "metadata": {},
   "outputs": [],
   "source": []
  }
 ],
 "metadata": {
  "kernelspec": {
   "display_name": "Python 3 (ipykernel)",
   "language": "python",
   "name": "python3"
  },
  "language_info": {
   "codemirror_mode": {
    "name": "ipython",
    "version": 3
   },
   "file_extension": ".py",
   "mimetype": "text/x-python",
   "name": "python",
   "nbconvert_exporter": "python",
   "pygments_lexer": "ipython3",
   "version": "3.10.13"
  }
 },
 "nbformat": 4,
 "nbformat_minor": 5
}
